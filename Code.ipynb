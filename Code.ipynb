{
 "cells": [
  {
   "cell_type": "code",
   "execution_count": 1,
   "metadata": {
    "colab": {
     "base_uri": "https://localhost:8080/"
    },
    "id": "sbyvqQ-y-hi3",
    "outputId": "65eee390-1637-4676-d9a5-7a4f37f09228"
   },
   "outputs": [
    {
     "name": "stdout",
     "output_type": "stream",
     "text": [
      "Requirement already satisfied: pyLDAvis in /usr/local/lib/python3.7/dist-packages (3.3.1)\n",
      "Requirement already satisfied: numexpr in /usr/local/lib/python3.7/dist-packages (from pyLDAvis) (2.7.3)\n",
      "Requirement already satisfied: jinja2 in /usr/local/lib/python3.7/dist-packages (from pyLDAvis) (2.11.3)\n",
      "Requirement already satisfied: sklearn in /usr/local/lib/python3.7/dist-packages (from pyLDAvis) (0.0)\n",
      "Requirement already satisfied: pandas>=1.2.0 in /usr/local/lib/python3.7/dist-packages (from pyLDAvis) (1.3.3)\n",
      "Requirement already satisfied: gensim in /usr/local/lib/python3.7/dist-packages (from pyLDAvis) (3.6.0)\n",
      "Requirement already satisfied: numpy>=1.20.0 in /usr/local/lib/python3.7/dist-packages (from pyLDAvis) (1.21.2)\n",
      "Requirement already satisfied: future in /usr/local/lib/python3.7/dist-packages (from pyLDAvis) (0.16.0)\n",
      "Requirement already satisfied: scipy in /usr/local/lib/python3.7/dist-packages (from pyLDAvis) (1.4.1)\n",
      "Requirement already satisfied: joblib in /usr/local/lib/python3.7/dist-packages (from pyLDAvis) (1.0.1)\n",
      "Requirement already satisfied: funcy in /usr/local/lib/python3.7/dist-packages (from pyLDAvis) (1.16)\n",
      "Requirement already satisfied: setuptools in /usr/local/lib/python3.7/dist-packages (from pyLDAvis) (57.4.0)\n",
      "Requirement already satisfied: scikit-learn in /usr/local/lib/python3.7/dist-packages (from pyLDAvis) (0.22.2.post1)\n",
      "Requirement already satisfied: python-dateutil>=2.7.3 in /usr/local/lib/python3.7/dist-packages (from pandas>=1.2.0->pyLDAvis) (2.8.2)\n",
      "Requirement already satisfied: pytz>=2017.3 in /usr/local/lib/python3.7/dist-packages (from pandas>=1.2.0->pyLDAvis) (2018.9)\n",
      "Requirement already satisfied: six>=1.5 in /usr/local/lib/python3.7/dist-packages (from python-dateutil>=2.7.3->pandas>=1.2.0->pyLDAvis) (1.15.0)\n",
      "Requirement already satisfied: smart-open>=1.2.1 in /usr/local/lib/python3.7/dist-packages (from gensim->pyLDAvis) (5.2.1)\n",
      "Requirement already satisfied: MarkupSafe>=0.23 in /usr/local/lib/python3.7/dist-packages (from jinja2->pyLDAvis) (2.0.1)\n"
     ]
    }
   ],
   "source": [
    "!pip install pyLDAvis"
   ]
  },
  {
   "cell_type": "code",
   "execution_count": 2,
   "metadata": {
    "colab": {
     "base_uri": "https://localhost:8080/",
     "height": 900
    },
    "execution": {
     "iopub.execute_input": "2021-09-23T13:54:25.243564Z",
     "iopub.status.busy": "2021-09-23T13:54:25.243233Z",
     "iopub.status.idle": "2021-09-23T13:54:34.891495Z",
     "shell.execute_reply": "2021-09-23T13:54:34.890468Z",
     "shell.execute_reply.started": "2021-09-23T13:54:25.243527Z"
    },
    "id": "i2knCHuRNmhV",
    "outputId": "ef5ca771-d1dd-44d5-f201-368854ed5ddd"
   },
   "outputs": [
    {
     "data": {
      "text/html": [
       "<div>\n",
       "<style scoped>\n",
       "    .dataframe tbody tr th:only-of-type {\n",
       "        vertical-align: middle;\n",
       "    }\n",
       "\n",
       "    .dataframe tbody tr th {\n",
       "        vertical-align: top;\n",
       "    }\n",
       "\n",
       "    .dataframe thead th {\n",
       "        text-align: right;\n",
       "    }\n",
       "</style>\n",
       "<table border=\"1\" class=\"dataframe\">\n",
       "  <thead>\n",
       "    <tr style=\"text-align: right;\">\n",
       "      <th></th>\n",
       "      <th>ProductId</th>\n",
       "      <th>UserId</th>\n",
       "      <th>ProfileName</th>\n",
       "      <th>HelpfulnessNumerator</th>\n",
       "      <th>HelpfulnessDenominator</th>\n",
       "      <th>Score</th>\n",
       "      <th>Time</th>\n",
       "      <th>Summary</th>\n",
       "      <th>Text</th>\n",
       "    </tr>\n",
       "    <tr>\n",
       "      <th>Id</th>\n",
       "      <th></th>\n",
       "      <th></th>\n",
       "      <th></th>\n",
       "      <th></th>\n",
       "      <th></th>\n",
       "      <th></th>\n",
       "      <th></th>\n",
       "      <th></th>\n",
       "      <th></th>\n",
       "    </tr>\n",
       "  </thead>\n",
       "  <tbody>\n",
       "    <tr>\n",
       "      <th>1</th>\n",
       "      <td>B001E4KFG0</td>\n",
       "      <td>A3SGXH7AUHU8GW</td>\n",
       "      <td>delmartian</td>\n",
       "      <td>1</td>\n",
       "      <td>1</td>\n",
       "      <td>5</td>\n",
       "      <td>1303862400</td>\n",
       "      <td>Good Quality Dog Food</td>\n",
       "      <td>I have bought several of the Vitality canned d...</td>\n",
       "    </tr>\n",
       "    <tr>\n",
       "      <th>2</th>\n",
       "      <td>B00813GRG4</td>\n",
       "      <td>A1D87F6ZCVE5NK</td>\n",
       "      <td>dll pa</td>\n",
       "      <td>0</td>\n",
       "      <td>0</td>\n",
       "      <td>1</td>\n",
       "      <td>1346976000</td>\n",
       "      <td>Not as Advertised</td>\n",
       "      <td>Product arrived labeled as Jumbo Salted Peanut...</td>\n",
       "    </tr>\n",
       "    <tr>\n",
       "      <th>3</th>\n",
       "      <td>B000LQOCH0</td>\n",
       "      <td>ABXLMWJIXXAIN</td>\n",
       "      <td>Natalia Corres \"Natalia Corres\"</td>\n",
       "      <td>1</td>\n",
       "      <td>1</td>\n",
       "      <td>4</td>\n",
       "      <td>1219017600</td>\n",
       "      <td>\"Delight\" says it all</td>\n",
       "      <td>This is a confection that has been around a fe...</td>\n",
       "    </tr>\n",
       "    <tr>\n",
       "      <th>4</th>\n",
       "      <td>B000UA0QIQ</td>\n",
       "      <td>A395BORC6FGVXV</td>\n",
       "      <td>Karl</td>\n",
       "      <td>3</td>\n",
       "      <td>3</td>\n",
       "      <td>2</td>\n",
       "      <td>1307923200</td>\n",
       "      <td>Cough Medicine</td>\n",
       "      <td>If you are looking for the secret ingredient i...</td>\n",
       "    </tr>\n",
       "    <tr>\n",
       "      <th>5</th>\n",
       "      <td>B006K2ZZ7K</td>\n",
       "      <td>A1UQRSCLF8GW1T</td>\n",
       "      <td>Michael D. Bigham \"M. Wassir\"</td>\n",
       "      <td>0</td>\n",
       "      <td>0</td>\n",
       "      <td>5</td>\n",
       "      <td>1350777600</td>\n",
       "      <td>Great taffy</td>\n",
       "      <td>Great taffy at a great price.  There was a wid...</td>\n",
       "    </tr>\n",
       "  </tbody>\n",
       "</table>\n",
       "</div>"
      ],
      "text/plain": [
       "     ProductId  ...                                               Text\n",
       "Id              ...                                                   \n",
       "1   B001E4KFG0  ...  I have bought several of the Vitality canned d...\n",
       "2   B00813GRG4  ...  Product arrived labeled as Jumbo Salted Peanut...\n",
       "3   B000LQOCH0  ...  This is a confection that has been around a fe...\n",
       "4   B000UA0QIQ  ...  If you are looking for the secret ingredient i...\n",
       "5   B006K2ZZ7K  ...  Great taffy at a great price.  There was a wid...\n",
       "\n",
       "[5 rows x 9 columns]"
      ]
     },
     "metadata": {},
     "output_type": "display_data"
    },
    {
     "name": "stdout",
     "output_type": "stream",
     "text": [
      "ProductId                 False\n",
      "UserId                    False\n",
      "ProfileName                True\n",
      "HelpfulnessNumerator      False\n",
      "HelpfulnessDenominator    False\n",
      "Score                     False\n",
      "Time                      False\n",
      "Summary                    True\n",
      "Text                      False\n",
      "dtype: bool\n"
     ]
    }
   ],
   "source": [
    "import numpy as np\n",
    "import pandas as pd\n",
    "import warnings\n",
    "\n",
    "warnings.filterwarnings(\"ignore\")\n",
    "\n",
    "# Load data file\n",
    "reviews = pd.read_csv(\"amazon_reviews.csv\", index_col=\"Id\")\n",
    "display(reviews.head())\n",
    "print(reviews.isna().any())"
   ]
  },
  {
   "cell_type": "code",
   "execution_count": 3,
   "metadata": {
    "colab": {
     "base_uri": "https://localhost:8080/",
     "height": 567
    },
    "execution": {
     "iopub.execute_input": "2021-09-23T13:55:54.527132Z",
     "iopub.status.busy": "2021-09-23T13:55:54.526766Z",
     "iopub.status.idle": "2021-09-23T13:55:54.649610Z",
     "shell.execute_reply": "2021-09-23T13:55:54.648765Z",
     "shell.execute_reply.started": "2021-09-23T13:55:54.527102Z"
    },
    "id": "rz7CLvxoNmhW",
    "outputId": "36a21579-526a-4970-903e-2f3b3ab21842"
   },
   "outputs": [
    {
     "data": {
      "text/html": [
       "<div>\n",
       "<style scoped>\n",
       "    .dataframe tbody tr th:only-of-type {\n",
       "        vertical-align: middle;\n",
       "    }\n",
       "\n",
       "    .dataframe tbody tr th {\n",
       "        vertical-align: top;\n",
       "    }\n",
       "\n",
       "    .dataframe thead th {\n",
       "        text-align: right;\n",
       "    }\n",
       "</style>\n",
       "<table border=\"1\" class=\"dataframe\">\n",
       "  <thead>\n",
       "    <tr style=\"text-align: right;\">\n",
       "      <th></th>\n",
       "      <th>ProductId</th>\n",
       "      <th>UserId</th>\n",
       "      <th>ProfileName</th>\n",
       "      <th>HelpfulnessNumerator</th>\n",
       "      <th>HelpfulnessDenominator</th>\n",
       "      <th>Score</th>\n",
       "      <th>Time</th>\n",
       "      <th>Summary</th>\n",
       "      <th>Text</th>\n",
       "    </tr>\n",
       "    <tr>\n",
       "      <th>Id</th>\n",
       "      <th></th>\n",
       "      <th></th>\n",
       "      <th></th>\n",
       "      <th></th>\n",
       "      <th></th>\n",
       "      <th></th>\n",
       "      <th></th>\n",
       "      <th></th>\n",
       "      <th></th>\n",
       "    </tr>\n",
       "  </thead>\n",
       "  <tbody>\n",
       "    <tr>\n",
       "      <th>1</th>\n",
       "      <td>B001E4KFG0</td>\n",
       "      <td>A3SGXH7AUHU8GW</td>\n",
       "      <td>delmartian</td>\n",
       "      <td>1</td>\n",
       "      <td>1</td>\n",
       "      <td>5</td>\n",
       "      <td>2011-04-27</td>\n",
       "      <td>Good Quality Dog Food</td>\n",
       "      <td>I have bought several of the Vitality canned d...</td>\n",
       "    </tr>\n",
       "    <tr>\n",
       "      <th>2</th>\n",
       "      <td>B00813GRG4</td>\n",
       "      <td>A1D87F6ZCVE5NK</td>\n",
       "      <td>dll pa</td>\n",
       "      <td>0</td>\n",
       "      <td>0</td>\n",
       "      <td>1</td>\n",
       "      <td>2012-09-07</td>\n",
       "      <td>Not as Advertised</td>\n",
       "      <td>Product arrived labeled as Jumbo Salted Peanut...</td>\n",
       "    </tr>\n",
       "    <tr>\n",
       "      <th>3</th>\n",
       "      <td>B000LQOCH0</td>\n",
       "      <td>ABXLMWJIXXAIN</td>\n",
       "      <td>Natalia Corres \"Natalia Corres\"</td>\n",
       "      <td>1</td>\n",
       "      <td>1</td>\n",
       "      <td>4</td>\n",
       "      <td>2008-08-18</td>\n",
       "      <td>\"Delight\" says it all</td>\n",
       "      <td>This is a confection that has been around a fe...</td>\n",
       "    </tr>\n",
       "    <tr>\n",
       "      <th>4</th>\n",
       "      <td>B000UA0QIQ</td>\n",
       "      <td>A395BORC6FGVXV</td>\n",
       "      <td>Karl</td>\n",
       "      <td>3</td>\n",
       "      <td>3</td>\n",
       "      <td>2</td>\n",
       "      <td>2011-06-13</td>\n",
       "      <td>Cough Medicine</td>\n",
       "      <td>If you are looking for the secret ingredient i...</td>\n",
       "    </tr>\n",
       "    <tr>\n",
       "      <th>5</th>\n",
       "      <td>B006K2ZZ7K</td>\n",
       "      <td>A1UQRSCLF8GW1T</td>\n",
       "      <td>Michael D. Bigham \"M. Wassir\"</td>\n",
       "      <td>0</td>\n",
       "      <td>0</td>\n",
       "      <td>5</td>\n",
       "      <td>2012-10-21</td>\n",
       "      <td>Great taffy</td>\n",
       "      <td>Great taffy at a great price.  There was a wid...</td>\n",
       "    </tr>\n",
       "  </tbody>\n",
       "</table>\n",
       "</div>"
      ],
      "text/plain": [
       "     ProductId  ...                                               Text\n",
       "Id              ...                                                   \n",
       "1   B001E4KFG0  ...  I have bought several of the Vitality canned d...\n",
       "2   B00813GRG4  ...  Product arrived labeled as Jumbo Salted Peanut...\n",
       "3   B000LQOCH0  ...  This is a confection that has been around a fe...\n",
       "4   B000UA0QIQ  ...  If you are looking for the secret ingredient i...\n",
       "5   B006K2ZZ7K  ...  Great taffy at a great price.  There was a wid...\n",
       "\n",
       "[5 rows x 9 columns]"
      ]
     },
     "execution_count": 3,
     "metadata": {},
     "output_type": "execute_result"
    }
   ],
   "source": [
    "# Data cleaning\n",
    "reviews[\"Time\"] = pd.to_datetime(reviews[\"Time\"], unit=\"s\")  # Parse time\n",
    "reviews[\"Summary\"].fillna(\"\", inplace=True)  # Fill na value for \"Summary\" column with empty string\n",
    "reviews[\"Text\"] = reviews[\"Text\"].str.replace(\"<.+?>\", \"\")  # Remove HTML tags\n",
    "reviews[\"HelpfulnessNumerator\"] = reviews[[\"HelpfulnessNumerator\", \"HelpfulnessDenominator\"]].min(axis=1)  # If numerator is greater than denominator, replace with denominator\n",
    "reviews.head()"
   ]
  },
  {
   "cell_type": "markdown",
   "metadata": {
    "id": "2nH5ulLkNmhW"
   },
   "source": [
    "# Part I: Descriptive Analysis\n",
    "In this part of the analysis, you will be exploring some NLP (natural language processing) techniques to better understand the data.\n",
    "\n",
    "a) Create a __<ins>table</ins>__ that contains information on minimum, average, median, and maximum for the following: review length, summary length, score, helpfulness ratio (helpfulness numerator divided by helpfulness denominator)"
   ]
  },
  {
   "cell_type": "code",
   "execution_count": 4,
   "metadata": {
    "colab": {
     "base_uri": "https://localhost:8080/",
     "height": 175
    },
    "execution": {
     "iopub.execute_input": "2021-09-23T13:57:12.364366Z",
     "iopub.status.busy": "2021-09-23T13:57:12.364039Z",
     "iopub.status.idle": "2021-09-23T13:57:23.646626Z",
     "shell.execute_reply": "2021-09-23T13:57:23.645696Z",
     "shell.execute_reply.started": "2021-09-23T13:57:12.364336Z"
    },
    "id": "uibf_lTRNmhY",
    "outputId": "a2e7c575-8be7-4b80-d16d-50b3a0916fea"
   },
   "outputs": [
    {
     "data": {
      "text/html": [
       "<div>\n",
       "<style scoped>\n",
       "    .dataframe tbody tr th:only-of-type {\n",
       "        vertical-align: middle;\n",
       "    }\n",
       "\n",
       "    .dataframe tbody tr th {\n",
       "        vertical-align: top;\n",
       "    }\n",
       "\n",
       "    .dataframe thead th {\n",
       "        text-align: right;\n",
       "    }\n",
       "</style>\n",
       "<table border=\"1\" class=\"dataframe\">\n",
       "  <thead>\n",
       "    <tr style=\"text-align: right;\">\n",
       "      <th></th>\n",
       "      <th>TextLength</th>\n",
       "      <th>SummaryLength</th>\n",
       "      <th>Score</th>\n",
       "      <th>HelpfulnessRatio</th>\n",
       "    </tr>\n",
       "  </thead>\n",
       "  <tbody>\n",
       "    <tr>\n",
       "      <th>min</th>\n",
       "      <td>3.000000</td>\n",
       "      <td>0.000000</td>\n",
       "      <td>1.000000</td>\n",
       "      <td>0.000000</td>\n",
       "    </tr>\n",
       "    <tr>\n",
       "      <th>mean</th>\n",
       "      <td>79.096428</td>\n",
       "      <td>4.113101</td>\n",
       "      <td>4.183199</td>\n",
       "      <td>0.407858</td>\n",
       "    </tr>\n",
       "    <tr>\n",
       "      <th>50%</th>\n",
       "      <td>56.000000</td>\n",
       "      <td>4.000000</td>\n",
       "      <td>5.000000</td>\n",
       "      <td>0.000000</td>\n",
       "    </tr>\n",
       "    <tr>\n",
       "      <th>max</th>\n",
       "      <td>3377.000000</td>\n",
       "      <td>42.000000</td>\n",
       "      <td>5.000000</td>\n",
       "      <td>1.000000</td>\n",
       "    </tr>\n",
       "  </tbody>\n",
       "</table>\n",
       "</div>"
      ],
      "text/plain": [
       "       TextLength  SummaryLength     Score  HelpfulnessRatio\n",
       "min      3.000000       0.000000  1.000000          0.000000\n",
       "mean    79.096428       4.113101  4.183199          0.407858\n",
       "50%     56.000000       4.000000  5.000000          0.000000\n",
       "max   3377.000000      42.000000  5.000000          1.000000"
      ]
     },
     "execution_count": 4,
     "metadata": {},
     "output_type": "execute_result"
    }
   ],
   "source": [
    "reviews[\"SummaryLength\"] = reviews[\"Summary\"].str.split().map(len)\n",
    "reviews[\"TextLength\"] = reviews[\"Text\"].str.split().map(len)\n",
    "reviews[\"HelpfulnessRatio\"] = reviews[\"HelpfulnessNumerator\"] / reviews[\"HelpfulnessDenominator\"]\n",
    "reviews[\"HelpfulnessRatio\"].fillna(0, inplace=True)  # Fill na value (resulted from 0/0) with 0\n",
    "reviews[[\"TextLength\", \"SummaryLength\", \"Score\", \"HelpfulnessRatio\"]].describe().loc[[\"min\", \"mean\", \"50%\", \"max\"]]"
   ]
  },
  {
   "cell_type": "markdown",
   "metadata": {
    "id": "DIJI7rmuNmhZ"
   },
   "source": [
    "b) Create __<ins>four line graphs</ins>__ with the following variables aggregated by day over time: review length, summary length, score, helpfulness ratio (helpfulness numerator divided by helpfulness denominator) -- the horizontal axis should correspond to time. Do you observe any patterns or interesting trends?"
   ]
  },
  {
   "cell_type": "code",
   "execution_count": 5,
   "metadata": {
    "colab": {
     "base_uri": "https://localhost:8080/",
     "height": 824
    },
    "execution": {
     "iopub.execute_input": "2021-09-23T13:58:26.928368Z",
     "iopub.status.busy": "2021-09-23T13:58:26.927397Z",
     "iopub.status.idle": "2021-09-23T13:58:27.915443Z",
     "shell.execute_reply": "2021-09-23T13:58:27.914292Z",
     "shell.execute_reply.started": "2021-09-23T13:58:26.928312Z"
    },
    "id": "9eEwQkM9Nmha",
    "outputId": "05ba471f-f906-46ae-ae55-54deb5ecbfd2"
   },
   "outputs": [
    {
     "data": {
      "image/png": "[encoded data removed]",
      "text/plain": [
       "<Figure size 1080x1080 with 4 Axes>"
      ]
     },
     "metadata": {
      "needs_background": "light"
     },
     "output_type": "display_data"
    }
   ],
   "source": [
    "import matplotlib.pyplot as plt\n",
    "\n",
    "aggregated = reviews[[\"Time\", \"TextLength\", \"SummaryLength\", \"Score\", \"HelpfulnessRatio\"]].groupby(\"Time\").mean()\n",
    "plt.figure(figsize=(15, 15))\n",
    "for i, col in enumerate(aggregated.columns, start=1):\n",
    "    plt.subplot(2, 2, i)\n",
    "    aggregated[col].plot()\n",
    "    plt.title(col)\n",
    "plt.show()"
   ]
  },
  {
   "cell_type": "markdown",
   "metadata": {
    "id": "L888PHq5Nmhb"
   },
   "source": [
    "There were very great fluctuations in average review length, summary length, score, and helpfulness ratio from day to day between 2004 and 2007. After 2007, average review length and summary length remained quite stable, while average score slightly reduced, and average helpfulness ratio fairly dropped, especially after 2010.\n",
    "\n",
    "c) Using the __lda_tutorial.pdf__ file in the assignment folder, perform a __Latent Dirichlet Allocation (LDA)__ analysis to extract the topics in the __*Text*__ column in an unsupervised manner. Set the number of clusters/topics to __5 (five)__. What are your observations? Does each cluster seem to form a meaningful subset? What do they seem to represent?"
   ]
  },
  {
   "cell_type": "code",
   "execution_count": 6,
   "metadata": {
    "colab": {
     "base_uri": "https://localhost:8080/"
    },
    "execution": {
     "iopub.execute_input": "2021-09-23T13:58:40.237814Z",
     "iopub.status.busy": "2021-09-23T13:58:40.236698Z",
     "iopub.status.idle": "2021-09-23T14:42:34.881833Z",
     "shell.execute_reply": "2021-09-23T14:42:34.880239Z",
     "shell.execute_reply.started": "2021-09-23T13:58:40.237766Z"
    },
    "id": "C9p57YBENmhb",
    "outputId": "198ddbb1-cade-4e32-d157-9cf96a7a6542"
   },
   "outputs": [
    {
     "name": "stdout",
     "output_type": "stream",
     "text": [
      "Topics found via LDA:\n",
      "\n",
      "Topic #0:\n",
      "food dog like eat dogs treats love loves just good\n",
      "\n",
      "Topic #1:\n",
      "tea flavor like coffee taste good chocolate just cup drink\n",
      "\n",
      "Topic #2:\n",
      "like good taste great just flavor love chips salt really\n",
      "\n",
      "Topic #3:\n",
      "coffee amazon product price good great order just buy box\n",
      "\n",
      "Topic #4:\n",
      "product water like sugar use taste oil just good bottle\n"
     ]
    }
   ],
   "source": [
    "from sklearn.feature_extraction.text import CountVectorizer\n",
    "from sklearn.decomposition import LatentDirichletAllocation as LDA\n",
    "\n",
    "count_vectorizer = CountVectorizer(stop_words=\"english\")\n",
    "count_data = count_vectorizer.fit_transform(reviews[\"Text\"])\n",
    "words = count_vectorizer.get_feature_names()\n",
    "lda = LDA(n_components=5, n_jobs=-1, random_state=12345)\n",
    "lda.fit(count_data)\n",
    "\n",
    "print(\"Topics found via LDA:\")\n",
    "for topic_idx, topic in enumerate(lda.components_):\n",
    "    print(\"\\nTopic #%d:\" % topic_idx)\n",
    "    print(\" \".join(words[i] for i in topic.argsort()[:-11:-1]))"
   ]
  },
  {
   "cell_type": "code",
   "execution_count": 7,
   "metadata": {
    "colab": {
     "base_uri": "https://localhost:8080/"
    },
    "execution": {
     "iopub.execute_input": "2021-09-23T03:22:12.786565Z",
     "iopub.status.busy": "2021-09-23T03:22:12.785919Z",
     "iopub.status.idle": "2021-09-23T03:24:38.132098Z",
     "shell.execute_reply": "2021-09-23T03:24:38.130876Z",
     "shell.execute_reply.started": "2021-09-23T03:22:12.786518Z"
    },
    "id": "uQnj6JjbNmhc",
    "outputId": "a8f2f4a7-31e7-49b5-bc8e-6e6b35a2c33c"
   },
   "outputs": [
    {
     "name": "stderr",
     "output_type": "stream",
     "text": [
      "/usr/local/lib/python3.7/dist-packages/past/types/oldstr.py:5: DeprecationWarning: Using or importing the ABCs from 'collections' instead of from 'collections.abc' is deprecated since Python 3.3,and in 3.9 it will stop working\n",
      "  from collections import Iterable\n",
      "/usr/local/lib/python3.7/dist-packages/past/builtins/misc.py:4: DeprecationWarning: Using or importing the ABCs from 'collections' instead of from 'collections.abc' is deprecated since Python 3.3,and in 3.9 it will stop working\n",
      "  from collections import Mapping\n"
     ]
    }
   ],
   "source": [
    "from pyLDAvis import sklearn as sklearn_lda\n",
    "import pickle\n",
    "import pyLDAvis\n",
    "\n",
    "LDAvis_data_filepath = \"./ldavis_prepared_5\"\n",
    "if 1 == 1:\n",
    "    LDAvis_prepared = sklearn_lda.prepare(lda, count_data, count_vectorizer)\n",
    "    with open(LDAvis_data_filepath, \"wb\") as f:\n",
    "        pickle.dump(LDAvis_prepared, f)\n",
    "    # load the pre-prepared pyLDAvis data from disk\n",
    "    with open(LDAvis_data_filepath, \"rb\") as f:\n",
    "        LDAvis_prepared = pickle.load(f)\n",
    "    pyLDAvis.save_html(LDAvis_prepared, \"./ldavis_prepared_5.html\")"
   ]
  },
  {
   "cell_type": "markdown",
   "metadata": {
    "id": "Ia4LZ7kdNmhc"
   },
   "source": [
    "# Part II: Model Creation and Prediction\n",
    "For this part of the analysis, you will need to create a model that predicts the __*Score*__ column of your dataset, report the __accuracy__ of your model, and the __confusion matrix__ that you create. __You will mainly be graded on the RMSE (root-mean squared error) of your model__. Some guidelines:\n",
    "\n",
    "+ You can <ins>only</ins> use the following prediction models, and report on the best model:\n",
    "  + __Linear regression, Ridge regression, Lasso regression__\n",
    "+ You can use the following dimension reduction methods:\n",
    "  + __PCA, t-SNE, spectral embedding__\n",
    "  + You can use these techniques in any combination (applying them in any order you would like)\n",
    "+ You are free to use and transform any column of the dataset you would like. Some potential transformations that you can try (you are also welcome to try others):\n",
    "  + Weighting some of the observations\n",
    "  + Grouping the observations by a particular characteristic\n",
    "  + Doing a logarithmic or polynomial transformation\n",
    "+ You are free to create a new column (a stream of data) based on the existing columns and use your new column as an independent variable. Some possible ideas:\n",
    "  + Converting the review text into numerical values using the NLTK sentiment analysis package\n",
    "  + Reducing the dimensionality of your dataset through a linear combination of some columns"
   ]
  },
  {
   "cell_type": "code",
   "execution_count": 8,
   "metadata": {
    "id": "Ou3Veqy-Rxl2"
   },
   "outputs": [],
   "source": [
    "# Split training and testing sets\n",
    "sample_submission = pd.read_csv(\"sampleSubmission.csv\", index_col=\"Id\")\n",
    "test = reviews.loc[sample_submission.index]\n",
    "train = reviews.loc[~reviews.index.isin(sample_submission.index)]"
   ]
  },
  {
   "cell_type": "code",
   "execution_count": 9,
   "metadata": {
    "colab": {
     "base_uri": "https://localhost:8080/"
    },
    "id": "w2SZ8_7aNmhd",
    "outputId": "704b3a9e-75ae-4a5f-e844-f4e69f3f4e21"
   },
   "outputs": [
    {
     "name": "stderr",
     "output_type": "stream",
     "text": [
      "/usr/local/lib/python3.7/dist-packages/nltk/decorators.py:70: DeprecationWarning: `formatargspec` is deprecated since Python 3.5. Use `signature` and the `Signature` object directly\n",
      "  formatvalue=lambda value: \"\")[1:-1]\n",
      "/usr/local/lib/python3.7/dist-packages/scipy/io/matlab/mio5.py:98: DeprecationWarning: `np.bool` is a deprecated alias for the builtin `bool`. To silence this warning, use `bool` by itself. Doing this will not modify any behavior and is safe. If you specifically wanted the numpy scalar type, use `np.bool_` here.\n",
      "Deprecated in NumPy 1.20; for more details and guidance: https://numpy.org/devdocs/release/1.20.0-notes.html#deprecations\n",
      "  from .mio5_utils import VarReader5\n"
     ]
    },
    {
     "name": "stdout",
     "output_type": "stream",
     "text": [
      "[nltk_data] Downloading package punkt to /root/nltk_data...\n",
      "[nltk_data]   Unzipping tokenizers/punkt.zip.\n",
      "[nltk_data] Downloading package stopwords to /root/nltk_data...\n",
      "[nltk_data]   Unzipping corpora/stopwords.zip.\n",
      "[nltk_data] Downloading package wordnet to /root/nltk_data...\n",
      "[nltk_data]   Unzipping corpora/wordnet.zip.\n"
     ]
    }
   ],
   "source": [
    "import re\n",
    "import nltk\n",
    "from nltk.tokenize import word_tokenize\n",
    "from nltk.corpus import stopwords\n",
    "from nltk.stem import WordNetLemmatizer\n",
    "from sklearn.feature_extraction.text import TfidfVectorizer\n",
    "\n",
    "nltk.download([\"punkt\", \"stopwords\", \"wordnet\"])\n",
    "STOPWORDS = stopwords.words(\"english\")\n",
    "LMTZR = WordNetLemmatizer()\n",
    "\n",
    "def process_text(review):\n",
    "    summary, text = review[\"Summary\"], review[\"Text\"]\n",
    "    text = \" \".join((summary, text))  # join summary and text together\n",
    "    text = re.sub(\"[^A-Za-z]\", \" \", text.lower())  # convert to lower case and remove non-alphabetic\n",
    "    tokenized_text = word_tokenize(text)  # tokenize\n",
    "    clean_text = (LMTZR.lemmatize(word) for word in tokenized_text if word not in STOPWORDS)  # remove stopwords and lemmatize to root form\n",
    "    return \" \".join(clean_text)\n",
    "\n",
    "# Process and vectorize text\n",
    "train_text = train.apply(process_text, axis=1)\n",
    "vectorizer = TfidfVectorizer(ngram_range=(1, 2), max_features=300)\n",
    "train_vectors = vectorizer.fit_transform(train_text)"
   ]
  },
  {
   "cell_type": "code",
   "execution_count": 10,
   "metadata": {
    "colab": {
     "base_uri": "https://localhost:8080/"
    },
    "id": "mU49Nor7TlAI",
    "outputId": "ec1bd236-ca84-40ed-b40c-71f101726f83"
   },
   "outputs": [
    {
     "name": "stdout",
     "output_type": "stream",
     "text": [
      "Number of components: 188\n"
     ]
    },
    {
     "data": {
      "text/plain": [
       "coffee    0.594407\n",
       "tea       0.449581\n",
       "cup       0.227176\n",
       "flavor    0.101285\n",
       "taste     0.090626\n",
       "            ...   \n",
       "love     -0.095695\n",
       "cat      -0.159787\n",
       "treat    -0.175367\n",
       "food     -0.245504\n",
       "dog      -0.359603\n",
       "Length: 300, dtype: float64"
      ]
     },
     "execution_count": 10,
     "metadata": {},
     "output_type": "execute_result"
    }
   ],
   "source": [
    "from sklearn.decomposition import PCA\n",
    "\n",
    "# PCA to reduce dimensionality\n",
    "pca = PCA(0.8, random_state=31415)\n",
    "reduced = pca.fit_transform(train_vectors.toarray())\n",
    "print(\"Number of components:\", pca.n_components_)\n",
    "pc1 = pd.Series(pca.components_[0,:], index=vectorizer.get_feature_names())\n",
    "pc1.sort_values(ascending=False, inplace=True)\n",
    "pc1"
   ]
  },
  {
   "cell_type": "code",
   "execution_count": 11,
   "metadata": {
    "colab": {
     "base_uri": "https://localhost:8080/",
     "height": 336
    },
    "id": "EGgHFyjMSr_m",
    "outputId": "1e8e9c0b-7c83-46cd-bf4b-0aa2e5c6b016"
   },
   "outputs": [
    {
     "data": {
      "image/png": "[encoded data removed]",
      "text/plain": [
       "<Figure size 864x360 with 2 Axes>"
      ]
     },
     "metadata": {
      "needs_background": "light"
     },
     "output_type": "display_data"
    }
   ],
   "source": [
    "# Histograms for summary/text lengths\n",
    "reviews[[\"SummaryLength\", \"TextLength\"]].hist(figsize=(12, 5))\n",
    "plt.show()"
   ]
  },
  {
   "cell_type": "code",
   "execution_count": 12,
   "metadata": {
    "colab": {
     "base_uri": "https://localhost:8080/",
     "height": 336
    },
    "id": "EyhF36peTRx1",
    "outputId": "05b01d1b-50a9-46ad-db59-7806f5b766fa"
   },
   "outputs": [
    {
     "data": {
      "image/png": "[encoded data removed]",
      "text/plain": [
       "<Figure size 864x360 with 2 Axes>"
      ]
     },
     "metadata": {
      "needs_background": "light"
     },
     "output_type": "display_data"
    }
   ],
   "source": [
    "# Histograms for log-transformed summary/text lengths\n",
    "reviews[\"log_Summary\"] = reviews[\"SummaryLength\"].apply(np.log1p)\n",
    "reviews[\"log_Text\"] = reviews[\"TextLength\"].apply(np.log)\n",
    "reviews[[\"log_Summary\", \"log_Text\"]].hist(figsize=(12, 5))\n",
    "plt.show()"
   ]
  },
  {
   "cell_type": "code",
   "execution_count": 13,
   "metadata": {
    "colab": {
     "base_uri": "https://localhost:8080/",
     "height": 336
    },
    "id": "JyGXdTp8XmiC",
    "outputId": "464c1e93-3053-4d31-cdb6-d77a44a356ea"
   },
   "outputs": [
    {
     "data": {
      "image/png": "[encoded data removed]",
      "text/plain": [
       "<Figure size 864x360 with 2 Axes>"
      ]
     },
     "metadata": {
      "needs_background": "light"
     },
     "output_type": "display_data"
    }
   ],
   "source": [
    "import seaborn as sns\n",
    "\n",
    "# Violin plots for relationship between scores and summary/text lengths\n",
    "plt.figure(figsize=(12, 5))\n",
    "plt.subplot(1, 2, 1)\n",
    "sns.violinplot(x=\"Score\", y=\"log_Summary\", data=reviews)\n",
    "plt.subplot(1, 2, 2)\n",
    "sns.violinplot(x=\"Score\", y=\"log_Text\", data=reviews)\n",
    "plt.show()"
   ]
  },
  {
   "cell_type": "code",
   "execution_count": 14,
   "metadata": {
    "id": "mx_0Vl3xkaa6"
   },
   "outputs": [],
   "source": [
    "# Training data for linear regression model input\n",
    "X_train = pd.DataFrame(reduced, index=train.index,\n",
    "                       columns=[\"PC {}\".format(i) for i in range(1, pca.n_components_ + 1)])\n",
    "X_train[\"YrAfter2007\"] = train[\"Time\"].dt.year.map(lambda yr: max(yr - 2007, 0))\n",
    "X_train[\"log_Summary\"] = train[\"SummaryLength\"].apply(np.log1p)\n",
    "X_train[\"log_Text\"] = train[\"TextLength\"].apply(np.log)\n",
    "\n",
    "# Testing data for linear regression model input\n",
    "test_text = test.apply(process_text, axis=1)\n",
    "test_vectors = vectorizer.transform(test_text)\n",
    "X_test = pd.DataFrame(pca.transform(test_vectors.toarray()), index=test.index,\n",
    "                      columns=[\"PC {}\".format(i) for i in range(1, pca.n_components_ + 1)])\n",
    "X_test[\"YrAfter2007\"] = test[\"Time\"].dt.year.map(lambda yr: max(yr - 2007, 0))\n",
    "X_test[\"log_Summary\"] = test[\"SummaryLength\"].apply(np.log1p)\n",
    "X_test[\"log_Text\"] = test[\"TextLength\"].apply(np.log)"
   ]
  },
  {
   "cell_type": "code",
   "execution_count": 15,
   "metadata": {
    "id": "BFslpHSGqwU_"
   },
   "outputs": [],
   "source": [
    "# Weight the training data: depend on helpfulness, if numerator > 0 then weight = numerator ^ ratio, otherwise weight = 1\n",
    "weights = train.apply(lambda row: row[\"HelpfulnessNumerator\"] ** row[\"HelpfulnessRatio\"] if row[\"HelpfulnessNumerator\"] else 1, axis=1)"
   ]
  },
  {
   "cell_type": "code",
   "execution_count": 16,
   "metadata": {
    "id": "pdr9b2v2BwLX"
   },
   "outputs": [],
   "source": [
    "# Alternative weighting based on inverse ratio of target frequencies\n",
    "score_freq = train[\"Score\"].value_counts(normalize=True)\n",
    "weights_alt = train[\"Score\"].apply(lambda score: 1 / score_freq[score])"
   ]
  },
  {
   "cell_type": "code",
   "execution_count": 17,
   "metadata": {
    "colab": {
     "base_uri": "https://localhost:8080/",
     "height": 241
    },
    "id": "rmTThO_ArOY4",
    "outputId": "d12ba9ed-3e5a-4a48-bfe3-e989eb7bca73"
   },
   "outputs": [
    {
     "data": {
      "text/html": [
       "<div>\n",
       "<style scoped>\n",
       "    .dataframe tbody tr th:only-of-type {\n",
       "        vertical-align: middle;\n",
       "    }\n",
       "\n",
       "    .dataframe tbody tr th {\n",
       "        vertical-align: top;\n",
       "    }\n",
       "\n",
       "    .dataframe thead th {\n",
       "        text-align: right;\n",
       "    }\n",
       "</style>\n",
       "<table border=\"1\" class=\"dataframe\">\n",
       "  <thead>\n",
       "    <tr style=\"text-align: right;\">\n",
       "      <th></th>\n",
       "      <th>1</th>\n",
       "      <th>2</th>\n",
       "      <th>3</th>\n",
       "      <th>4</th>\n",
       "      <th>5</th>\n",
       "    </tr>\n",
       "  </thead>\n",
       "  <tbody>\n",
       "    <tr>\n",
       "      <th>1</th>\n",
       "      <td>185</td>\n",
       "      <td>1404</td>\n",
       "      <td>4771</td>\n",
       "      <td>2844</td>\n",
       "      <td>143</td>\n",
       "    </tr>\n",
       "    <tr>\n",
       "      <th>2</th>\n",
       "      <td>38</td>\n",
       "      <td>463</td>\n",
       "      <td>2323</td>\n",
       "      <td>2194</td>\n",
       "      <td>185</td>\n",
       "    </tr>\n",
       "    <tr>\n",
       "      <th>3</th>\n",
       "      <td>20</td>\n",
       "      <td>356</td>\n",
       "      <td>2639</td>\n",
       "      <td>3802</td>\n",
       "      <td>515</td>\n",
       "    </tr>\n",
       "    <tr>\n",
       "      <th>4</th>\n",
       "      <td>10</td>\n",
       "      <td>136</td>\n",
       "      <td>2313</td>\n",
       "      <td>8271</td>\n",
       "      <td>3463</td>\n",
       "    </tr>\n",
       "    <tr>\n",
       "      <th>5</th>\n",
       "      <td>9</td>\n",
       "      <td>190</td>\n",
       "      <td>4133</td>\n",
       "      <td>28914</td>\n",
       "      <td>30679</td>\n",
       "    </tr>\n",
       "  </tbody>\n",
       "</table>\n",
       "</div>"
      ],
      "text/plain": [
       "     1     2     3      4      5\n",
       "1  185  1404  4771   2844    143\n",
       "2   38   463  2323   2194    185\n",
       "3   20   356  2639   3802    515\n",
       "4   10   136  2313   8271   3463\n",
       "5    9   190  4133  28914  30679"
      ]
     },
     "metadata": {},
     "output_type": "display_data"
    },
    {
     "name": "stdout",
     "output_type": "stream",
     "text": [
      "Accuracy: 0.42237\n",
      "RMSE: 1.1008269618791138\n"
     ]
    }
   ],
   "source": [
    "from sklearn.linear_model import LinearRegression\n",
    "from sklearn.metrics import confusion_matrix, accuracy_score, mean_squared_error\n",
    "\n",
    "def predict_score(model, input_data):\n",
    "    pred = model.predict(input_data)\n",
    "    pred = np.round(pred).astype(int)  # round to the nearest integer\n",
    "    pred = np.where(pred < 1, 1, pred)  # fix to 1 if output < 1\n",
    "    pred = np.where(pred > 5, 5, pred)  # fix to 5 if output > 5\n",
    "    return pred\n",
    "\n",
    "# Try simple linear regression\n",
    "lr = LinearRegression()\n",
    "lr.fit(X_train, train[\"Score\"], weights)\n",
    "lr_pred = predict_score(lr, X_test)\n",
    "lr_cm = pd.DataFrame(confusion_matrix(test[\"Score\"], lr_pred),\n",
    "                     index=range(1, 6), columns=range(1, 6))\n",
    "display(lr_cm)\n",
    "print(\"Accuracy:\", accuracy_score(test[\"Score\"], lr_pred))\n",
    "print(\"RMSE:\", mean_squared_error(test[\"Score\"], lr_pred, squared=False))"
   ]
  },
  {
   "cell_type": "code",
   "execution_count": 18,
   "metadata": {
    "colab": {
     "base_uri": "https://localhost:8080/",
     "height": 241
    },
    "id": "TvleZmfoDFrS",
    "outputId": "d1ff0eac-327d-4aec-a2bc-4f18a64550f2"
   },
   "outputs": [
    {
     "data": {
      "text/html": [
       "<div>\n",
       "<style scoped>\n",
       "    .dataframe tbody tr th:only-of-type {\n",
       "        vertical-align: middle;\n",
       "    }\n",
       "\n",
       "    .dataframe tbody tr th {\n",
       "        vertical-align: top;\n",
       "    }\n",
       "\n",
       "    .dataframe thead th {\n",
       "        text-align: right;\n",
       "    }\n",
       "</style>\n",
       "<table border=\"1\" class=\"dataframe\">\n",
       "  <thead>\n",
       "    <tr style=\"text-align: right;\">\n",
       "      <th></th>\n",
       "      <th>1</th>\n",
       "      <th>2</th>\n",
       "      <th>3</th>\n",
       "      <th>4</th>\n",
       "      <th>5</th>\n",
       "    </tr>\n",
       "  </thead>\n",
       "  <tbody>\n",
       "    <tr>\n",
       "      <th>1</th>\n",
       "      <td>958</td>\n",
       "      <td>4747</td>\n",
       "      <td>3337</td>\n",
       "      <td>285</td>\n",
       "      <td>20</td>\n",
       "    </tr>\n",
       "    <tr>\n",
       "      <th>2</th>\n",
       "      <td>213</td>\n",
       "      <td>2054</td>\n",
       "      <td>2570</td>\n",
       "      <td>344</td>\n",
       "      <td>22</td>\n",
       "    </tr>\n",
       "    <tr>\n",
       "      <th>3</th>\n",
       "      <td>118</td>\n",
       "      <td>1851</td>\n",
       "      <td>4205</td>\n",
       "      <td>1064</td>\n",
       "      <td>94</td>\n",
       "    </tr>\n",
       "    <tr>\n",
       "      <th>4</th>\n",
       "      <td>28</td>\n",
       "      <td>1225</td>\n",
       "      <td>6963</td>\n",
       "      <td>5030</td>\n",
       "      <td>947</td>\n",
       "    </tr>\n",
       "    <tr>\n",
       "      <th>5</th>\n",
       "      <td>63</td>\n",
       "      <td>2367</td>\n",
       "      <td>21389</td>\n",
       "      <td>29182</td>\n",
       "      <td>10924</td>\n",
       "    </tr>\n",
       "  </tbody>\n",
       "</table>\n",
       "</div>"
      ],
      "text/plain": [
       "     1     2      3      4      5\n",
       "1  958  4747   3337    285     20\n",
       "2  213  2054   2570    344     22\n",
       "3  118  1851   4205   1064     94\n",
       "4   28  1225   6963   5030    947\n",
       "5   63  2367  21389  29182  10924"
      ]
     },
     "metadata": {},
     "output_type": "display_data"
    },
    {
     "name": "stdout",
     "output_type": "stream",
     "text": [
      "Accuracy: 0.23171\n",
      "RMSE: 1.3386971278074813\n"
     ]
    }
   ],
   "source": [
    "# Alternative weighting\n",
    "lr2 = LinearRegression()\n",
    "lr2.fit(X_train, train[\"Score\"], weights_alt)\n",
    "lr2_pred = predict_score(lr2, X_test)\n",
    "lr2_cm = pd.DataFrame(confusion_matrix(test[\"Score\"], lr2_pred),\n",
    "                      index=range(1, 6), columns=range(1, 6))\n",
    "display(lr2_cm)\n",
    "print(\"Accuracy:\", accuracy_score(test[\"Score\"], lr2_pred))\n",
    "print(\"RMSE:\", mean_squared_error(test[\"Score\"], lr2_pred, squared=False))"
   ]
  },
  {
   "cell_type": "code",
   "execution_count": 19,
   "metadata": {
    "colab": {
     "base_uri": "https://localhost:8080/",
     "height": 241
    },
    "id": "DL-ocFmahRPZ",
    "outputId": "b5b514e9-2424-4cd7-a3da-d69ede9cd817"
   },
   "outputs": [
    {
     "data": {
      "text/html": [
       "<div>\n",
       "<style scoped>\n",
       "    .dataframe tbody tr th:only-of-type {\n",
       "        vertical-align: middle;\n",
       "    }\n",
       "\n",
       "    .dataframe tbody tr th {\n",
       "        vertical-align: top;\n",
       "    }\n",
       "\n",
       "    .dataframe thead th {\n",
       "        text-align: right;\n",
       "    }\n",
       "</style>\n",
       "<table border=\"1\" class=\"dataframe\">\n",
       "  <thead>\n",
       "    <tr style=\"text-align: right;\">\n",
       "      <th></th>\n",
       "      <th>1</th>\n",
       "      <th>2</th>\n",
       "      <th>3</th>\n",
       "      <th>4</th>\n",
       "      <th>5</th>\n",
       "    </tr>\n",
       "  </thead>\n",
       "  <tbody>\n",
       "    <tr>\n",
       "      <th>1</th>\n",
       "      <td>133</td>\n",
       "      <td>1199</td>\n",
       "      <td>4767</td>\n",
       "      <td>3109</td>\n",
       "      <td>139</td>\n",
       "    </tr>\n",
       "    <tr>\n",
       "      <th>2</th>\n",
       "      <td>32</td>\n",
       "      <td>376</td>\n",
       "      <td>2385</td>\n",
       "      <td>2268</td>\n",
       "      <td>142</td>\n",
       "    </tr>\n",
       "    <tr>\n",
       "      <th>3</th>\n",
       "      <td>11</td>\n",
       "      <td>293</td>\n",
       "      <td>2583</td>\n",
       "      <td>3983</td>\n",
       "      <td>462</td>\n",
       "    </tr>\n",
       "    <tr>\n",
       "      <th>4</th>\n",
       "      <td>5</td>\n",
       "      <td>108</td>\n",
       "      <td>2096</td>\n",
       "      <td>8672</td>\n",
       "      <td>3312</td>\n",
       "    </tr>\n",
       "    <tr>\n",
       "      <th>5</th>\n",
       "      <td>7</td>\n",
       "      <td>113</td>\n",
       "      <td>3410</td>\n",
       "      <td>29535</td>\n",
       "      <td>30860</td>\n",
       "    </tr>\n",
       "  </tbody>\n",
       "</table>\n",
       "</div>"
      ],
      "text/plain": [
       "     1     2     3      4      5\n",
       "1  133  1199  4767   3109    139\n",
       "2   32   376  2385   2268    142\n",
       "3   11   293  2583   3983    462\n",
       "4    5   108  2096   8672   3312\n",
       "5    7   113  3410  29535  30860"
      ]
     },
     "metadata": {},
     "output_type": "display_data"
    },
    {
     "name": "stdout",
     "output_type": "stream",
     "text": [
      "Accuracy: 0.42624\n",
      "RMSE: 1.0935995610825746\n"
     ]
    }
   ],
   "source": [
    "# Try unweighted samples\n",
    "lr3 = LinearRegression()\n",
    "lr3.fit(X_train, train[\"Score\"])\n",
    "lr3_pred = predict_score(lr3, X_test)\n",
    "lr3_cm = pd.DataFrame(confusion_matrix(test[\"Score\"], lr3_pred),\n",
    "                      index=range(1, 6), columns=range(1, 6))\n",
    "display(lr3_cm)\n",
    "print(\"Accuracy:\", accuracy_score(test[\"Score\"], lr3_pred))\n",
    "print(\"RMSE:\", mean_squared_error(test[\"Score\"], lr3_pred, squared=False))"
   ]
  },
  {
   "cell_type": "code",
   "execution_count": 20,
   "metadata": {
    "colab": {
     "base_uri": "https://localhost:8080/",
     "height": 390
    },
    "id": "OOYpRNdhrc3-",
    "outputId": "87cae203-3aa8-4df2-dc1b-ca5a7084278b"
   },
   "outputs": [
    {
     "data": {
      "image/png": "[encoded data removed]",
      "text/plain": [
       "<Figure size 576x432 with 1 Axes>"
      ]
     },
     "metadata": {
      "needs_background": "light"
     },
     "output_type": "display_data"
    }
   ],
   "source": [
    "from sklearn.linear_model import Lasso\n",
    "\n",
    "# Try Lasso regression\n",
    "alphas = np.linspace(0.000005, 0.0005, 100)\n",
    "rmses = []\n",
    "for alpha in alphas:\n",
    "    lasso = Lasso(alpha=alpha)\n",
    "    lasso.fit(X_train, train[\"Score\"])\n",
    "    lasso_pred = predict_score(lasso, X_test)\n",
    "    rmses.append(mean_squared_error(test[\"Score\"], lasso_pred, squared=False))\n",
    "\n",
    "i = np.argmin(rmses)\n",
    "plt.figure(figsize=(8, 6))\n",
    "plt.plot(alphas, rmses)\n",
    "plt.plot([alphas[i]], rmses[i], \"ro\")\n",
    "plt.grid()\n",
    "plt.title(\"RMSE vs alpha\")\n",
    "plt.show()"
   ]
  },
  {
   "cell_type": "code",
   "execution_count": 21,
   "metadata": {
    "colab": {
     "base_uri": "https://localhost:8080/",
     "height": 390
    },
    "id": "9dqSaKrqsviL",
    "outputId": "08996a71-61f1-4bdb-e5cf-dc0c9822753a"
   },
   "outputs": [
    {
     "data": {
      "image/png": "[encoded data removed]",
      "text/plain": [
       "<Figure size 576x432 with 1 Axes>"
      ]
     },
     "metadata": {
      "needs_background": "light"
     },
     "output_type": "display_data"
    }
   ],
   "source": [
    "from sklearn.linear_model import Ridge\n",
    "\n",
    "# Try Ridge regression\n",
    "alphas = np.linspace(0.000005, 0.0005, 100)\n",
    "rmses = []\n",
    "for alpha in alphas:\n",
    "    ridge = Ridge(alpha=alpha)\n",
    "    ridge.fit(X_train, train[\"Score\"])\n",
    "    ridge_pred = predict_score(ridge, X_test)\n",
    "    rmses.append(mean_squared_error(test[\"Score\"], ridge_pred, squared=False))\n",
    "\n",
    "i = np.argmin(rmses)\n",
    "plt.figure(figsize=(8, 6))\n",
    "plt.plot(alphas, rmses)\n",
    "plt.plot([alphas[i]], rmses[i], \"ro\")\n",
    "plt.grid()\n",
    "plt.title(\"RMSE vs alpha\")\n",
    "plt.show()"
   ]
  },
  {
   "cell_type": "code",
   "execution_count": 22,
   "metadata": {
    "colab": {
     "base_uri": "https://localhost:8080/",
     "height": 455
    },
    "id": "Xoq5zg_augEG",
    "outputId": "d6e61d06-1a09-4526-ebd8-1d3ddecdf865"
   },
   "outputs": [
    {
     "data": {
      "text/html": [
       "<div>\n",
       "<style scoped>\n",
       "    .dataframe tbody tr th:only-of-type {\n",
       "        vertical-align: middle;\n",
       "    }\n",
       "\n",
       "    .dataframe tbody tr th {\n",
       "        vertical-align: top;\n",
       "    }\n",
       "\n",
       "    .dataframe thead th {\n",
       "        text-align: right;\n",
       "    }\n",
       "</style>\n",
       "<table border=\"1\" class=\"dataframe\">\n",
       "  <thead>\n",
       "    <tr style=\"text-align: right;\">\n",
       "      <th></th>\n",
       "      <th>Predicted</th>\n",
       "    </tr>\n",
       "    <tr>\n",
       "      <th>Id</th>\n",
       "      <th></th>\n",
       "    </tr>\n",
       "  </thead>\n",
       "  <tbody>\n",
       "    <tr>\n",
       "      <th>413937</th>\n",
       "      <td>4</td>\n",
       "    </tr>\n",
       "    <tr>\n",
       "      <th>16525</th>\n",
       "      <td>4</td>\n",
       "    </tr>\n",
       "    <tr>\n",
       "      <th>221883</th>\n",
       "      <td>4</td>\n",
       "    </tr>\n",
       "    <tr>\n",
       "      <th>82207</th>\n",
       "      <td>5</td>\n",
       "    </tr>\n",
       "    <tr>\n",
       "      <th>8354</th>\n",
       "      <td>4</td>\n",
       "    </tr>\n",
       "    <tr>\n",
       "      <th>...</th>\n",
       "      <td>...</td>\n",
       "    </tr>\n",
       "    <tr>\n",
       "      <th>425070</th>\n",
       "      <td>3</td>\n",
       "    </tr>\n",
       "    <tr>\n",
       "      <th>42867</th>\n",
       "      <td>4</td>\n",
       "    </tr>\n",
       "    <tr>\n",
       "      <th>320644</th>\n",
       "      <td>3</td>\n",
       "    </tr>\n",
       "    <tr>\n",
       "      <th>57526</th>\n",
       "      <td>4</td>\n",
       "    </tr>\n",
       "    <tr>\n",
       "      <th>341602</th>\n",
       "      <td>5</td>\n",
       "    </tr>\n",
       "  </tbody>\n",
       "</table>\n",
       "<p>100000 rows × 1 columns</p>\n",
       "</div>"
      ],
      "text/plain": [
       "        Predicted\n",
       "Id               \n",
       "413937          4\n",
       "16525           4\n",
       "221883          4\n",
       "82207           5\n",
       "8354            4\n",
       "...           ...\n",
       "425070          3\n",
       "42867           4\n",
       "320644          3\n",
       "57526           4\n",
       "341602          5\n",
       "\n",
       "[100000 rows x 1 columns]"
      ]
     },
     "execution_count": 22,
     "metadata": {},
     "output_type": "execute_result"
    }
   ],
   "source": [
    "sample_submission[\"Predicted\"] = lr3_pred\n",
    "sample_submission"
   ]
  },
  {
   "cell_type": "code",
   "execution_count": 23,
   "metadata": {
    "id": "0QuzS8QfunkX"
   },
   "outputs": [],
   "source": [
    "sample_submission.to_csv(\"submission.csv\")"
   ]
  }
 ],
 "metadata": {
  "colab": {
   "collapsed_sections": [],
   "name": "amazon_lab.ipynb",
   "provenance": []
  },
  "kernelspec": {
   "display_name": "Python 3 (ipykernel)",
   "language": "python",
   "name": "python3"
  },
  "language_info": {
   "codemirror_mode": {
    "name": "ipython",
    "version": 3
   },
   "file_extension": ".py",
   "mimetype": "text/x-python",
   "name": "python",
   "nbconvert_exporter": "python",
   "pygments_lexer": "ipython3",
   "version": "3.8.4"
  }
 },
 "nbformat": 4,
 "nbformat_minor": 4
}
